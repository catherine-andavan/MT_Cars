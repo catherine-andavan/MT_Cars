{
 "cells": [
  {
   "cell_type": "code",
   "execution_count": 1,
   "metadata": {},
   "outputs": [],
   "source": [
    "import pandas as pd\n",
    "import numpy as np\n",
    "import matplotlib.pyplot as plt\n",
    "import seaborn as sns\n",
    "import warnings\n",
    "warnings.filterwarnings('ignore')"
   ]
  },
  {
   "cell_type": "code",
   "execution_count": 3,
   "metadata": {},
   "outputs": [
    {
     "data": {
      "text/html": [
       "<div>\n",
       "<style scoped>\n",
       "    .dataframe tbody tr th:only-of-type {\n",
       "        vertical-align: middle;\n",
       "    }\n",
       "\n",
       "    .dataframe tbody tr th {\n",
       "        vertical-align: top;\n",
       "    }\n",
       "\n",
       "    .dataframe thead th {\n",
       "        text-align: right;\n",
       "    }\n",
       "</style>\n",
       "<table border=\"1\" class=\"dataframe\">\n",
       "  <thead>\n",
       "    <tr style=\"text-align: right;\">\n",
       "      <th></th>\n",
       "      <th>model</th>\n",
       "      <th>mpg</th>\n",
       "      <th>cyl</th>\n",
       "      <th>disp</th>\n",
       "      <th>hp</th>\n",
       "      <th>drat</th>\n",
       "      <th>wt</th>\n",
       "      <th>qsec</th>\n",
       "      <th>vs</th>\n",
       "      <th>am</th>\n",
       "      <th>gear</th>\n",
       "      <th>carb</th>\n",
       "    </tr>\n",
       "  </thead>\n",
       "  <tbody>\n",
       "    <tr>\n",
       "      <td>0</td>\n",
       "      <td>Mazda RX4</td>\n",
       "      <td>21.0</td>\n",
       "      <td>6</td>\n",
       "      <td>160.0</td>\n",
       "      <td>110</td>\n",
       "      <td>3.90</td>\n",
       "      <td>2.620</td>\n",
       "      <td>16.46</td>\n",
       "      <td>0</td>\n",
       "      <td>1</td>\n",
       "      <td>4</td>\n",
       "      <td>4</td>\n",
       "    </tr>\n",
       "    <tr>\n",
       "      <td>1</td>\n",
       "      <td>Mazda RX4 Wag</td>\n",
       "      <td>21.0</td>\n",
       "      <td>6</td>\n",
       "      <td>160.0</td>\n",
       "      <td>110</td>\n",
       "      <td>3.90</td>\n",
       "      <td>2.875</td>\n",
       "      <td>17.02</td>\n",
       "      <td>0</td>\n",
       "      <td>1</td>\n",
       "      <td>4</td>\n",
       "      <td>4</td>\n",
       "    </tr>\n",
       "    <tr>\n",
       "      <td>2</td>\n",
       "      <td>Datsun 710</td>\n",
       "      <td>22.8</td>\n",
       "      <td>4</td>\n",
       "      <td>108.0</td>\n",
       "      <td>93</td>\n",
       "      <td>3.85</td>\n",
       "      <td>2.320</td>\n",
       "      <td>18.61</td>\n",
       "      <td>1</td>\n",
       "      <td>1</td>\n",
       "      <td>4</td>\n",
       "      <td>1</td>\n",
       "    </tr>\n",
       "    <tr>\n",
       "      <td>3</td>\n",
       "      <td>Hornet 4 Drive</td>\n",
       "      <td>21.4</td>\n",
       "      <td>6</td>\n",
       "      <td>258.0</td>\n",
       "      <td>110</td>\n",
       "      <td>3.08</td>\n",
       "      <td>3.215</td>\n",
       "      <td>19.44</td>\n",
       "      <td>1</td>\n",
       "      <td>0</td>\n",
       "      <td>3</td>\n",
       "      <td>1</td>\n",
       "    </tr>\n",
       "    <tr>\n",
       "      <td>4</td>\n",
       "      <td>Hornet Sportabout</td>\n",
       "      <td>18.7</td>\n",
       "      <td>8</td>\n",
       "      <td>360.0</td>\n",
       "      <td>175</td>\n",
       "      <td>3.15</td>\n",
       "      <td>3.440</td>\n",
       "      <td>17.02</td>\n",
       "      <td>0</td>\n",
       "      <td>0</td>\n",
       "      <td>3</td>\n",
       "      <td>2</td>\n",
       "    </tr>\n",
       "  </tbody>\n",
       "</table>\n",
       "</div>"
      ],
      "text/plain": [
       "               model   mpg  cyl   disp   hp  drat     wt   qsec  vs  am  gear  \\\n",
       "0          Mazda RX4  21.0    6  160.0  110  3.90  2.620  16.46   0   1     4   \n",
       "1      Mazda RX4 Wag  21.0    6  160.0  110  3.90  2.875  17.02   0   1     4   \n",
       "2         Datsun 710  22.8    4  108.0   93  3.85  2.320  18.61   1   1     4   \n",
       "3     Hornet 4 Drive  21.4    6  258.0  110  3.08  3.215  19.44   1   0     3   \n",
       "4  Hornet Sportabout  18.7    8  360.0  175  3.15  3.440  17.02   0   0     3   \n",
       "\n",
       "   carb  \n",
       "0     4  \n",
       "1     4  \n",
       "2     1  \n",
       "3     1  \n",
       "4     2  "
      ]
     },
     "execution_count": 3,
     "metadata": {},
     "output_type": "execute_result"
    }
   ],
   "source": [
    "df=pd.read_csv('mtcars (2).csv')\n",
    "df.head()"
   ]
  },
  {
   "cell_type": "code",
   "execution_count": 5,
   "metadata": {},
   "outputs": [],
   "source": [
    "y=df['mpg']\n",
    "x=df.drop(['mpg','model','vs','am'],axis=1)"
   ]
  },
  {
   "cell_type": "code",
   "execution_count": 6,
   "metadata": {},
   "outputs": [
    {
     "data": {
      "text/html": [
       "<table class=\"simpletable\">\n",
       "<caption>OLS Regression Results</caption>\n",
       "<tr>\n",
       "  <th>Dep. Variable:</th>           <td>mpg</td>       <th>  R-squared (uncentered):</th>      <td>   0.988</td>\n",
       "</tr>\n",
       "<tr>\n",
       "  <th>Model:</th>                   <td>OLS</td>       <th>  Adj. R-squared (uncentered):</th> <td>   0.984</td>\n",
       "</tr>\n",
       "<tr>\n",
       "  <th>Method:</th>             <td>Least Squares</td>  <th>  F-statistic:       </th>          <td>   252.2</td>\n",
       "</tr>\n",
       "<tr>\n",
       "  <th>Date:</th>             <td>Thu, 18 Jun 2020</td> <th>  Prob (F-statistic):</th>          <td>3.06e-21</td>\n",
       "</tr>\n",
       "<tr>\n",
       "  <th>Time:</th>                 <td>14:23:10</td>     <th>  Log-Likelihood:    </th>          <td> -71.654</td>\n",
       "</tr>\n",
       "<tr>\n",
       "  <th>No. Observations:</th>      <td>    32</td>      <th>  AIC:               </th>          <td>   159.3</td>\n",
       "</tr>\n",
       "<tr>\n",
       "  <th>Df Residuals:</th>          <td>    24</td>      <th>  BIC:               </th>          <td>   171.0</td>\n",
       "</tr>\n",
       "<tr>\n",
       "  <th>Df Model:</th>              <td>     8</td>      <th>                     </th>              <td> </td>   \n",
       "</tr>\n",
       "<tr>\n",
       "  <th>Covariance Type:</th>      <td>nonrobust</td>    <th>                     </th>              <td> </td>   \n",
       "</tr>\n",
       "</table>\n",
       "<table class=\"simpletable\">\n",
       "<tr>\n",
       "    <td></td>      <th>coef</th>     <th>std err</th>      <th>t</th>      <th>P>|t|</th>  <th>[0.025</th>    <th>0.975]</th>  \n",
       "</tr>\n",
       "<tr>\n",
       "  <th>cyl</th>  <td>    0.2887</td> <td>    0.653</td> <td>    0.442</td> <td> 0.662</td> <td>   -1.059</td> <td>    1.637</td>\n",
       "</tr>\n",
       "<tr>\n",
       "  <th>disp</th> <td>    0.0134</td> <td>    0.018</td> <td>    0.762</td> <td> 0.453</td> <td>   -0.023</td> <td>    0.050</td>\n",
       "</tr>\n",
       "<tr>\n",
       "  <th>hp</th>   <td>   -0.0200</td> <td>    0.021</td> <td>   -0.966</td> <td> 0.344</td> <td>   -0.063</td> <td>    0.023</td>\n",
       "</tr>\n",
       "<tr>\n",
       "  <th>drat</th> <td>    1.8765</td> <td>    1.399</td> <td>    1.341</td> <td> 0.192</td> <td>   -1.011</td> <td>    4.764</td>\n",
       "</tr>\n",
       "<tr>\n",
       "  <th>wt</th>   <td>   -4.1185</td> <td>    1.852</td> <td>   -2.224</td> <td> 0.036</td> <td>   -7.940</td> <td>   -0.297</td>\n",
       "</tr>\n",
       "<tr>\n",
       "  <th>qsec</th> <td>    1.0283</td> <td>    0.388</td> <td>    2.648</td> <td> 0.014</td> <td>    0.227</td> <td>    1.830</td>\n",
       "</tr>\n",
       "<tr>\n",
       "  <th>gear</th> <td>    1.9762</td> <td>    1.191</td> <td>    1.659</td> <td> 0.110</td> <td>   -0.483</td> <td>    4.435</td>\n",
       "</tr>\n",
       "<tr>\n",
       "  <th>carb</th> <td>   -0.3575</td> <td>    0.809</td> <td>   -0.442</td> <td> 0.663</td> <td>   -2.028</td> <td>    1.313</td>\n",
       "</tr>\n",
       "</table>\n",
       "<table class=\"simpletable\">\n",
       "<tr>\n",
       "  <th>Omnibus:</th>       <td> 2.252</td> <th>  Durbin-Watson:     </th> <td>   1.920</td>\n",
       "</tr>\n",
       "<tr>\n",
       "  <th>Prob(Omnibus):</th> <td> 0.324</td> <th>  Jarque-Bera (JB):  </th> <td>   1.590</td>\n",
       "</tr>\n",
       "<tr>\n",
       "  <th>Skew:</th>          <td> 0.546</td> <th>  Prob(JB):          </th> <td>   0.452</td>\n",
       "</tr>\n",
       "<tr>\n",
       "  <th>Kurtosis:</th>      <td> 3.005</td> <th>  Cond. No.          </th> <td>1.37e+03</td>\n",
       "</tr>\n",
       "</table><br/><br/>Warnings:<br/>[1] Standard Errors assume that the covariance matrix of the errors is correctly specified.<br/>[2] The condition number is large, 1.37e+03. This might indicate that there are<br/>strong multicollinearity or other numerical problems."
      ],
      "text/plain": [
       "<class 'statsmodels.iolib.summary.Summary'>\n",
       "\"\"\"\n",
       "                                 OLS Regression Results                                \n",
       "=======================================================================================\n",
       "Dep. Variable:                    mpg   R-squared (uncentered):                   0.988\n",
       "Model:                            OLS   Adj. R-squared (uncentered):              0.984\n",
       "Method:                 Least Squares   F-statistic:                              252.2\n",
       "Date:                Thu, 18 Jun 2020   Prob (F-statistic):                    3.06e-21\n",
       "Time:                        14:23:10   Log-Likelihood:                         -71.654\n",
       "No. Observations:                  32   AIC:                                      159.3\n",
       "Df Residuals:                      24   BIC:                                      171.0\n",
       "Df Model:                           8                                                  \n",
       "Covariance Type:            nonrobust                                                  \n",
       "==============================================================================\n",
       "                 coef    std err          t      P>|t|      [0.025      0.975]\n",
       "------------------------------------------------------------------------------\n",
       "cyl            0.2887      0.653      0.442      0.662      -1.059       1.637\n",
       "disp           0.0134      0.018      0.762      0.453      -0.023       0.050\n",
       "hp            -0.0200      0.021     -0.966      0.344      -0.063       0.023\n",
       "drat           1.8765      1.399      1.341      0.192      -1.011       4.764\n",
       "wt            -4.1185      1.852     -2.224      0.036      -7.940      -0.297\n",
       "qsec           1.0283      0.388      2.648      0.014       0.227       1.830\n",
       "gear           1.9762      1.191      1.659      0.110      -0.483       4.435\n",
       "carb          -0.3575      0.809     -0.442      0.663      -2.028       1.313\n",
       "==============================================================================\n",
       "Omnibus:                        2.252   Durbin-Watson:                   1.920\n",
       "Prob(Omnibus):                  0.324   Jarque-Bera (JB):                1.590\n",
       "Skew:                           0.546   Prob(JB):                        0.452\n",
       "Kurtosis:                       3.005   Cond. No.                     1.37e+03\n",
       "==============================================================================\n",
       "\n",
       "Warnings:\n",
       "[1] Standard Errors assume that the covariance matrix of the errors is correctly specified.\n",
       "[2] The condition number is large, 1.37e+03. This might indicate that there are\n",
       "strong multicollinearity or other numerical problems.\n",
       "\"\"\""
      ]
     },
     "execution_count": 6,
     "metadata": {},
     "output_type": "execute_result"
    }
   ],
   "source": [
    "import statsmodels.api as sm\n",
    "\n",
    "xc=sm.add_constant(x)\n",
    "lr=sm.OLS(y,x).fit()\n",
    "lr.summary()"
   ]
  },
  {
   "cell_type": "code",
   "execution_count": 9,
   "metadata": {},
   "outputs": [
    {
     "data": {
      "text/html": [
       "<div>\n",
       "<style scoped>\n",
       "    .dataframe tbody tr th:only-of-type {\n",
       "        vertical-align: middle;\n",
       "    }\n",
       "\n",
       "    .dataframe tbody tr th {\n",
       "        vertical-align: top;\n",
       "    }\n",
       "\n",
       "    .dataframe thead th {\n",
       "        text-align: right;\n",
       "    }\n",
       "</style>\n",
       "<table border=\"1\" class=\"dataframe\">\n",
       "  <thead>\n",
       "    <tr style=\"text-align: right;\">\n",
       "      <th></th>\n",
       "      <th>vif</th>\n",
       "    </tr>\n",
       "  </thead>\n",
       "  <tbody>\n",
       "    <tr>\n",
       "      <td>const</td>\n",
       "      <td>1478.067733</td>\n",
       "    </tr>\n",
       "    <tr>\n",
       "      <td>cyl</td>\n",
       "      <td>13.189675</td>\n",
       "    </tr>\n",
       "    <tr>\n",
       "      <td>disp</td>\n",
       "      <td>21.402534</td>\n",
       "    </tr>\n",
       "    <tr>\n",
       "      <td>hp</td>\n",
       "      <td>9.102122</td>\n",
       "    </tr>\n",
       "    <tr>\n",
       "      <td>drat</td>\n",
       "      <td>3.292037</td>\n",
       "    </tr>\n",
       "    <tr>\n",
       "      <td>wt</td>\n",
       "      <td>14.962903</td>\n",
       "    </tr>\n",
       "    <tr>\n",
       "      <td>qsec</td>\n",
       "      <td>5.556476</td>\n",
       "    </tr>\n",
       "    <tr>\n",
       "      <td>gear</td>\n",
       "      <td>4.827297</td>\n",
       "    </tr>\n",
       "    <tr>\n",
       "      <td>carb</td>\n",
       "      <td>7.825779</td>\n",
       "    </tr>\n",
       "  </tbody>\n",
       "</table>\n",
       "</div>"
      ],
      "text/plain": [
       "               vif\n",
       "const  1478.067733\n",
       "cyl      13.189675\n",
       "disp     21.402534\n",
       "hp        9.102122\n",
       "drat      3.292037\n",
       "wt       14.962903\n",
       "qsec      5.556476\n",
       "gear      4.827297\n",
       "carb      7.825779"
      ]
     },
     "execution_count": 9,
     "metadata": {},
     "output_type": "execute_result"
    }
   ],
   "source": [
    "from statsmodels.stats.outliers_influence import variance_inflation_factor as vif\n",
    "\n",
    "vif=[vif(xc.values,i) for i in range (xc.shape[1])]\n",
    "pd.DataFrame(vif,index=xc.columns,columns=['vif'])"
   ]
  },
  {
   "cell_type": "code",
   "execution_count": 10,
   "metadata": {},
   "outputs": [],
   "source": [
    "from sklearn.preprocessing import StandardScaler\n",
    "ss=StandardScaler()\n",
    "\n",
    "xs=ss.fit_transform(x)\n",
    "xs=pd.DataFrame(xs,columns=x.columns)"
   ]
  },
  {
   "cell_type": "code",
   "execution_count": 11,
   "metadata": {},
   "outputs": [],
   "source": [
    "from sklearn.decomposition import PCA\n",
    "\n",
    "pca=PCA()"
   ]
  },
  {
   "cell_type": "code",
   "execution_count": 12,
   "metadata": {},
   "outputs": [
    {
     "data": {
      "text/plain": [
       "PCA(copy=True, iterated_power='auto', n_components=None, random_state=None,\n",
       "    svd_solver='auto', tol=0.0, whiten=False)"
      ]
     },
     "execution_count": 12,
     "metadata": {},
     "output_type": "execute_result"
    }
   ],
   "source": [
    "pca.fit(xs)"
   ]
  },
  {
   "cell_type": "code",
   "execution_count": 13,
   "metadata": {},
   "outputs": [
    {
     "data": {
      "text/plain": [
       "array([4.96022693, 2.14728253, 0.49765386, 0.27357005, 0.18043075,\n",
       "       0.11258685, 0.06174454, 0.02456902])"
      ]
     },
     "execution_count": 13,
     "metadata": {},
     "output_type": "execute_result"
    }
   ],
   "source": [
    "pca.explained_variance_"
   ]
  },
  {
   "cell_type": "code",
   "execution_count": null,
   "metadata": {},
   "outputs": [],
   "source": [
    "# Eigen value of first component is the best. the following ones are worse than the previous ones."
   ]
  },
  {
   "cell_type": "code",
   "execution_count": 14,
   "metadata": {},
   "outputs": [
    {
     "data": {
      "text/plain": [
       "array([0.60065248, 0.26002249, 0.06026277, 0.03312762, 0.02184904,\n",
       "       0.01363356, 0.00747688, 0.00297515])"
      ]
     },
     "execution_count": 14,
     "metadata": {},
     "output_type": "execute_result"
    }
   ],
   "source": [
    "pca.explained_variance_ratio_"
   ]
  },
  {
   "cell_type": "code",
   "execution_count": null,
   "metadata": {},
   "outputs": [],
   "source": [
    "# The first 4 components contribute 95% of variance in the data. we can use 4 components"
   ]
  },
  {
   "cell_type": "code",
   "execution_count": 17,
   "metadata": {},
   "outputs": [
    {
     "data": {
      "image/png": "[encoded data removed]",
      "text/plain": [
       "<Figure size 432x288 with 1 Axes>"
      ]
     },
     "metadata": {
      "needs_background": "light"
     },
     "output_type": "display_data"
    }
   ],
   "source": [
    "plt.plot(range(1,9),np.cumsum(pca.explained_variance_ratio_))\n",
    "plt.xlabel('Principle components')\n",
    "plt.ylabel('Cumulative variance captured')\n",
    "plt.show()"
   ]
  },
  {
   "cell_type": "code",
   "execution_count": null,
   "metadata": {},
   "outputs": [],
   "source": [
    "### The figure gives proportion of variance captured by number of components.It shows that the first 4 components \n",
    "### are accounting for 95% of variation in the data. Hence, we choose the number of components to be 4."
   ]
  },
  {
   "cell_type": "code",
   "execution_count": 18,
   "metadata": {},
   "outputs": [
    {
     "data": {
      "text/plain": [
       "PCA(copy=True, iterated_power='auto', n_components=4, random_state=None,\n",
       "    svd_solver='auto', tol=0.0, whiten=True)"
      ]
     },
     "execution_count": 18,
     "metadata": {},
     "output_type": "execute_result"
    }
   ],
   "source": [
    "pca=PCA(n_components=4,whiten=True)\n",
    "pca.fit(xs)"
   ]
  },
  {
   "cell_type": "code",
   "execution_count": 19,
   "metadata": {},
   "outputs": [],
   "source": [
    "data_pc=pca.fit_transform(xs)"
   ]
  },
  {
   "cell_type": "code",
   "execution_count": 20,
   "metadata": {},
   "outputs": [
    {
     "data": {
      "text/html": [
       "<div>\n",
       "<style scoped>\n",
       "    .dataframe tbody tr th:only-of-type {\n",
       "        vertical-align: middle;\n",
       "    }\n",
       "\n",
       "    .dataframe tbody tr th {\n",
       "        vertical-align: top;\n",
       "    }\n",
       "\n",
       "    .dataframe thead th {\n",
       "        text-align: right;\n",
       "    }\n",
       "</style>\n",
       "<table border=\"1\" class=\"dataframe\">\n",
       "  <thead>\n",
       "    <tr style=\"text-align: right;\">\n",
       "      <th></th>\n",
       "      <th>pc1</th>\n",
       "      <th>pc2</th>\n",
       "      <th>pc3</th>\n",
       "      <th>pc4</th>\n",
       "    </tr>\n",
       "  </thead>\n",
       "  <tbody>\n",
       "    <tr>\n",
       "      <td>0</td>\n",
       "      <td>0.295328</td>\n",
       "      <td>0.820110</td>\n",
       "      <td>-0.388309</td>\n",
       "      <td>-0.250814</td>\n",
       "    </tr>\n",
       "    <tr>\n",
       "      <td>1</td>\n",
       "      <td>0.283841</td>\n",
       "      <td>0.683808</td>\n",
       "      <td>0.087494</td>\n",
       "      <td>-0.170300</td>\n",
       "    </tr>\n",
       "    <tr>\n",
       "      <td>2</td>\n",
       "      <td>1.053095</td>\n",
       "      <td>-0.203379</td>\n",
       "      <td>-0.506536</td>\n",
       "      <td>-0.218664</td>\n",
       "    </tr>\n",
       "    <tr>\n",
       "      <td>3</td>\n",
       "      <td>0.070655</td>\n",
       "      <td>-1.373808</td>\n",
       "      <td>-0.405105</td>\n",
       "      <td>-0.596401</td>\n",
       "    </tr>\n",
       "    <tr>\n",
       "      <td>4</td>\n",
       "      <td>-0.742855</td>\n",
       "      <td>-0.594413</td>\n",
       "      <td>-1.343109</td>\n",
       "      <td>0.288258</td>\n",
       "    </tr>\n",
       "  </tbody>\n",
       "</table>\n",
       "</div>"
      ],
      "text/plain": [
       "        pc1       pc2       pc3       pc4\n",
       "0  0.295328  0.820110 -0.388309 -0.250814\n",
       "1  0.283841  0.683808  0.087494 -0.170300\n",
       "2  1.053095 -0.203379 -0.506536 -0.218664\n",
       "3  0.070655 -1.373808 -0.405105 -0.596401\n",
       "4 -0.742855 -0.594413 -1.343109  0.288258"
      ]
     },
     "execution_count": 20,
     "metadata": {},
     "output_type": "execute_result"
    }
   ],
   "source": [
    "data_pc=pd.DataFrame(data_pc,columns=['pc1','pc2','pc3','pc4'])\n",
    "data_pc.head()"
   ]
  },
  {
   "cell_type": "code",
   "execution_count": 21,
   "metadata": {},
   "outputs": [
    {
     "data": {
      "text/html": [
       "<div>\n",
       "<style scoped>\n",
       "    .dataframe tbody tr th:only-of-type {\n",
       "        vertical-align: middle;\n",
       "    }\n",
       "\n",
       "    .dataframe tbody tr th {\n",
       "        vertical-align: top;\n",
       "    }\n",
       "\n",
       "    .dataframe thead th {\n",
       "        text-align: right;\n",
       "    }\n",
       "</style>\n",
       "<table border=\"1\" class=\"dataframe\">\n",
       "  <thead>\n",
       "    <tr style=\"text-align: right;\">\n",
       "      <th></th>\n",
       "      <th>pc1</th>\n",
       "      <th>pc2</th>\n",
       "      <th>pc3</th>\n",
       "      <th>pc4</th>\n",
       "    </tr>\n",
       "  </thead>\n",
       "  <tbody>\n",
       "    <tr>\n",
       "      <td>cyl</td>\n",
       "      <td>-0.439711</td>\n",
       "      <td>0.006493</td>\n",
       "      <td>-0.213894</td>\n",
       "      <td>0.041177</td>\n",
       "    </tr>\n",
       "    <tr>\n",
       "      <td>disp</td>\n",
       "      <td>-0.432969</td>\n",
       "      <td>-0.097948</td>\n",
       "      <td>-0.023257</td>\n",
       "      <td>0.341541</td>\n",
       "    </tr>\n",
       "    <tr>\n",
       "      <td>hp</td>\n",
       "      <td>-0.401819</td>\n",
       "      <td>0.261415</td>\n",
       "      <td>0.027553</td>\n",
       "      <td>0.069929</td>\n",
       "    </tr>\n",
       "    <tr>\n",
       "      <td>drat</td>\n",
       "      <td>0.337419</td>\n",
       "      <td>0.348885</td>\n",
       "      <td>0.112778</td>\n",
       "      <td>0.844803</td>\n",
       "    </tr>\n",
       "    <tr>\n",
       "      <td>wt</td>\n",
       "      <td>-0.399860</td>\n",
       "      <td>-0.179106</td>\n",
       "      <td>0.507029</td>\n",
       "      <td>0.193569</td>\n",
       "    </tr>\n",
       "    <tr>\n",
       "      <td>qsec</td>\n",
       "      <td>0.252176</td>\n",
       "      <td>-0.478355</td>\n",
       "      <td>0.632540</td>\n",
       "      <td>-0.028712</td>\n",
       "    </tr>\n",
       "    <tr>\n",
       "      <td>gear</td>\n",
       "      <td>0.223540</td>\n",
       "      <td>0.555703</td>\n",
       "      <td>0.194703</td>\n",
       "      <td>-0.281562</td>\n",
       "    </tr>\n",
       "    <tr>\n",
       "      <td>carb</td>\n",
       "      <td>-0.265389</td>\n",
       "      <td>0.480206</td>\n",
       "      <td>0.495112</td>\n",
       "      <td>-0.213312</td>\n",
       "    </tr>\n",
       "  </tbody>\n",
       "</table>\n",
       "</div>"
      ],
      "text/plain": [
       "           pc1       pc2       pc3       pc4\n",
       "cyl  -0.439711  0.006493 -0.213894  0.041177\n",
       "disp -0.432969 -0.097948 -0.023257  0.341541\n",
       "hp   -0.401819  0.261415  0.027553  0.069929\n",
       "drat  0.337419  0.348885  0.112778  0.844803\n",
       "wt   -0.399860 -0.179106  0.507029  0.193569\n",
       "qsec  0.252176 -0.478355  0.632540 -0.028712\n",
       "gear  0.223540  0.555703  0.194703 -0.281562\n",
       "carb -0.265389  0.480206  0.495112 -0.213312"
      ]
     },
     "execution_count": 21,
     "metadata": {},
     "output_type": "execute_result"
    }
   ],
   "source": [
    "pc=pd.DataFrame(pca.components_,columns=x.columns).T\n",
    "pc.columns=['pc1','pc2','pc3','pc4']\n",
    "pc"
   ]
  },
  {
   "cell_type": "code",
   "execution_count": 22,
   "metadata": {},
   "outputs": [],
   "source": [
    "# Note: Provided above is the loadings matrix which gives the correlation between each of the components and features"
   ]
  },
  {
   "cell_type": "code",
   "execution_count": 23,
   "metadata": {},
   "outputs": [],
   "source": [
    "# It shows that PC1 is highly correlated with cylinder, displacement, hp and wt. \n",
    "# It means in PC1, weightages of these features are large."
   ]
  },
  {
   "cell_type": "code",
   "execution_count": 24,
   "metadata": {},
   "outputs": [],
   "source": [
    "#Note: After transforming original data into components, we obtain data_pc(shape=32,4)."
   ]
  },
  {
   "cell_type": "code",
   "execution_count": 27,
   "metadata": {},
   "outputs": [
    {
     "data": {
      "text/html": [
       "<table class=\"simpletable\">\n",
       "<caption>OLS Regression Results</caption>\n",
       "<tr>\n",
       "  <th>Dep. Variable:</th>           <td>mpg</td>       <th>  R-squared:         </th> <td>   0.846</td>\n",
       "</tr>\n",
       "<tr>\n",
       "  <th>Model:</th>                   <td>OLS</td>       <th>  Adj. R-squared:    </th> <td>   0.823</td>\n",
       "</tr>\n",
       "<tr>\n",
       "  <th>Method:</th>             <td>Least Squares</td>  <th>  F-statistic:       </th> <td>   36.95</td>\n",
       "</tr>\n",
       "<tr>\n",
       "  <th>Date:</th>             <td>Thu, 18 Jun 2020</td> <th>  Prob (F-statistic):</th> <td>1.39e-10</td>\n",
       "</tr>\n",
       "<tr>\n",
       "  <th>Time:</th>                 <td>14:58:10</td>     <th>  Log-Likelihood:    </th> <td> -72.494</td>\n",
       "</tr>\n",
       "<tr>\n",
       "  <th>No. Observations:</th>      <td>    32</td>      <th>  AIC:               </th> <td>   155.0</td>\n",
       "</tr>\n",
       "<tr>\n",
       "  <th>Df Residuals:</th>          <td>    27</td>      <th>  BIC:               </th> <td>   162.3</td>\n",
       "</tr>\n",
       "<tr>\n",
       "  <th>Df Model:</th>              <td>     4</td>      <th>                     </th>     <td> </td>   \n",
       "</tr>\n",
       "<tr>\n",
       "  <th>Covariance Type:</th>      <td>nonrobust</td>    <th>                     </th>     <td> </td>   \n",
       "</tr>\n",
       "</table>\n",
       "<table class=\"simpletable\">\n",
       "<tr>\n",
       "    <td></td>       <th>coef</th>     <th>std err</th>      <th>t</th>      <th>P>|t|</th>  <th>[0.025</th>    <th>0.975]</th>  \n",
       "</tr>\n",
       "<tr>\n",
       "  <th>const</th> <td>   20.0906</td> <td>    0.449</td> <td>   44.776</td> <td> 0.000</td> <td>   19.170</td> <td>   21.011</td>\n",
       "</tr>\n",
       "<tr>\n",
       "  <th>pc1</th>   <td>    5.4699</td> <td>    0.456</td> <td>   11.999</td> <td> 0.000</td> <td>    4.535</td> <td>    6.405</td>\n",
       "</tr>\n",
       "<tr>\n",
       "  <th>pc2</th>   <td>    0.2912</td> <td>    0.456</td> <td>    0.639</td> <td> 0.528</td> <td>   -0.644</td> <td>    1.227</td>\n",
       "</tr>\n",
       "<tr>\n",
       "  <th>pc3</th>   <td>   -0.8414</td> <td>    0.456</td> <td>   -1.846</td> <td> 0.076</td> <td>   -1.777</td> <td>    0.094</td>\n",
       "</tr>\n",
       "<tr>\n",
       "  <th>pc4</th>   <td>   -0.0125</td> <td>    0.456</td> <td>   -0.027</td> <td> 0.978</td> <td>   -0.948</td> <td>    0.923</td>\n",
       "</tr>\n",
       "</table>\n",
       "<table class=\"simpletable\">\n",
       "<tr>\n",
       "  <th>Omnibus:</th>       <td> 3.450</td> <th>  Durbin-Watson:     </th> <td>   1.879</td>\n",
       "</tr>\n",
       "<tr>\n",
       "  <th>Prob(Omnibus):</th> <td> 0.178</td> <th>  Jarque-Bera (JB):  </th> <td>   2.742</td>\n",
       "</tr>\n",
       "<tr>\n",
       "  <th>Skew:</th>          <td> 0.716</td> <th>  Prob(JB):          </th> <td>   0.254</td>\n",
       "</tr>\n",
       "<tr>\n",
       "  <th>Kurtosis:</th>      <td> 2.944</td> <th>  Cond. No.          </th> <td>    1.02</td>\n",
       "</tr>\n",
       "</table><br/><br/>Warnings:<br/>[1] Standard Errors assume that the covariance matrix of the errors is correctly specified."
      ],
      "text/plain": [
       "<class 'statsmodels.iolib.summary.Summary'>\n",
       "\"\"\"\n",
       "                            OLS Regression Results                            \n",
       "==============================================================================\n",
       "Dep. Variable:                    mpg   R-squared:                       0.846\n",
       "Model:                            OLS   Adj. R-squared:                  0.823\n",
       "Method:                 Least Squares   F-statistic:                     36.95\n",
       "Date:                Thu, 18 Jun 2020   Prob (F-statistic):           1.39e-10\n",
       "Time:                        14:58:10   Log-Likelihood:                -72.494\n",
       "No. Observations:                  32   AIC:                             155.0\n",
       "Df Residuals:                      27   BIC:                             162.3\n",
       "Df Model:                           4                                         \n",
       "Covariance Type:            nonrobust                                         \n",
       "==============================================================================\n",
       "                 coef    std err          t      P>|t|      [0.025      0.975]\n",
       "------------------------------------------------------------------------------\n",
       "const         20.0906      0.449     44.776      0.000      19.170      21.011\n",
       "pc1            5.4699      0.456     11.999      0.000       4.535       6.405\n",
       "pc2            0.2912      0.456      0.639      0.528      -0.644       1.227\n",
       "pc3           -0.8414      0.456     -1.846      0.076      -1.777       0.094\n",
       "pc4           -0.0125      0.456     -0.027      0.978      -0.948       0.923\n",
       "==============================================================================\n",
       "Omnibus:                        3.450   Durbin-Watson:                   1.879\n",
       "Prob(Omnibus):                  0.178   Jarque-Bera (JB):                2.742\n",
       "Skew:                           0.716   Prob(JB):                        0.254\n",
       "Kurtosis:                       2.944   Cond. No.                         1.02\n",
       "==============================================================================\n",
       "\n",
       "Warnings:\n",
       "[1] Standard Errors assume that the covariance matrix of the errors is correctly specified.\n",
       "\"\"\""
      ]
     },
     "execution_count": 27,
     "metadata": {},
     "output_type": "execute_result"
    }
   ],
   "source": [
    "data_pc=sm.add_constant(data_pc)\n",
    "lr=sm.OLS(y,data_pc).fit()\n",
    "lr.summary()"
   ]
  },
  {
   "cell_type": "code",
   "execution_count": null,
   "metadata": {},
   "outputs": [],
   "source": [
    "# based on above OLS,P>|t|, we can say that PC1 is definitely significant followed by PC3."
   ]
  }
 ],
 "metadata": {
  "kernelspec": {
   "display_name": "Python 3",
   "language": "python",
   "name": "python3"
  },
  "language_info": {
   "codemirror_mode": {
    "name": "ipython",
    "version": 3
   },
   "file_extension": ".py",
   "mimetype": "text/x-python",
   "name": "python",
   "nbconvert_exporter": "python",
   "pygments_lexer": "ipython3",
   "version": "3.7.4"
  }
 },
 "nbformat": 4,
 "nbformat_minor": 2
}
